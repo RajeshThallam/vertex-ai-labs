{
 "cells": [
  {
   "cell_type": "markdown",
   "metadata": {
    "id": "dg4bTYyNmYSA"
   },
   "source": [
    "# Orchestrating training and deployment of R models with Vertex AI Pipelines\n",
    "\n",
    "\n",
    "TODO: Writing model artifacts to GCS"
   ]
  },
  {
   "cell_type": "code",
   "execution_count": null,
   "metadata": {
    "id": "ur8xi4C7S06n"
   },
   "outputs": [],
   "source": [
    "# Copyright 2021 Google LLC\n",
    "#\n",
    "# Licensed under the Apache License, Version 2.0 (the \"License\");\n",
    "# you may not use this file except in compliance with the License.\n",
    "# You may obtain a copy of the License at\n",
    "#\n",
    "#     https://www.apache.org/licenses/LICENSE-2.0\n",
    "#\n",
    "# Unless required by applicable law or agreed to in writing, software\n",
    "# distributed under the License is distributed on an \"AS IS\" BASIS,\n",
    "# WITHOUT WARRANTIES OR CONDITIONS OF ANY KIND, either express or implied.\n",
    "# See the License for the specific language governing permissions and\n",
    "# limitations under the License."
   ]
  },
  {
   "cell_type": "markdown",
   "metadata": {
    "id": "JAPoU8Sm5E6e"
   },
   "source": [
    "<!-- <table align=\"left\">\n",
    "\n",
    "  <td>\n",
    "    <a href=\"https://colab.research.google.com/github/GoogleCloudPlatform/ai-platform-samples/blob/master/ai-platform-unified/notebooks/notebook_template.ipynb\"\">\n",
    "      <img src=\"https://cloud.google.com/ml-engine/images/colab-logo-32px.png\" alt=\"Colab logo\"> Run in Colab\n",
    "    </a>\n",
    "  </td>\n",
    "  <td>\n",
    "    <a href=\"https://github.com/GoogleCloudPlatform/ai-platform-samples/blob/master/ai-platform-unified/notebooks/notebook_template.ipynb\">\n",
    "      <img src=\"https://cloud.google.com/ml-engine/images/github-logo-32px.png\" alt=\"GitHub logo\">\n",
    "      View on GitHub\n",
    "    </a>\n",
    "  </td>\n",
    "</table> -->"
   ]
  },
  {
   "cell_type": "markdown",
   "metadata": {
    "id": "3yTsQctS8QLd"
   },
   "source": [
    "# Orchestrating a workflow to train and deploy a R model using [Vertex Pipelines](https://cloud.google.com/vertex-ai/docs/pipelines/introduction)"
   ]
  },
  {
   "cell_type": "markdown",
   "metadata": {
    "id": "tvgnzT1CKxrO"
   },
   "source": [
    "## Overview\n",
    "\n",
    "This tutorial uses R.A. Fisher's Iris dataset, a small dataset that is popular for trying out machine learning techniques. Each instance has four numerical features, which are different measurements of a flower, and a target label that marks it as one of three types of iris: Iris setosa, Iris versicolour, or Iris virginica. Flower classifier with an e2e example using [Vertex Pipelines](https://cloud.google.com/vertex-ai/docs/pipelines).\n",
    "\n",
    "This `kfp.v2` code currently does not run on OSS KFP, but will be able to soon once the 'v2 compatibility mode' feature is supported.\n"
   ]
  },
  {
   "cell_type": "markdown",
   "metadata": {
    "id": "ze4-nDLfK4pw"
   },
   "source": [
    "### Set up your local development environment\n",
    "\n",
    "**If you are using Colab or Google Cloud Notebooks**, your environment already meets\n",
    "all the requirements to run this notebook. You can skip this step."
   ]
  },
  {
   "cell_type": "markdown",
   "metadata": {
    "id": "gCuSR8GkAgzl"
   },
   "source": [
    "**Otherwise**, make sure your environment meets this notebook's requirements.\n",
    "You need the following:\n",
    "\n",
    "* The Google Cloud SDK\n",
    "* Git\n",
    "* Python 3\n",
    "* virtualenv\n",
    "* Jupyter notebook running in a virtual environment with Python 3\n",
    "\n",
    "The Google Cloud guide to [Setting up a Python development\n",
    "environment](https://cloud.google.com/python/setup) and the [Jupyter\n",
    "installation guide](https://jupyter.org/install) provide detailed instructions\n",
    "for meeting these requirements. The following steps provide a condensed set of\n",
    "instructions:\n",
    "\n",
    "1. [Install and initialize the Cloud SDK.](https://cloud.google.com/sdk/docs/)\n",
    "\n",
    "1. [Install Python 3.](https://cloud.google.com/python/setup#installing_python)\n",
    "\n",
    "1. [Install\n",
    "   virtualenv](https://cloud.google.com/python/setup#installing_and_using_virtualenv)\n",
    "   and create a virtual environment that uses Python 3. Activate the virtual environment.\n",
    "\n",
    "1. To install Jupyter, run `pip install jupyter` on the\n",
    "command-line in a terminal shell.\n",
    "\n",
    "1. To launch Jupyter, run `jupyter notebook` on the command-line in a terminal shell.\n",
    "\n",
    "1. Open this notebook in the Jupyter Notebook Dashboard."
   ]
  },
  {
   "cell_type": "markdown",
   "metadata": {
    "id": "i7EUnXsZhAGF"
   },
   "source": [
    "### Install additional packages\n",
    "\n"
   ]
  },
  {
   "cell_type": "markdown",
   "metadata": {
    "id": "FweS1-dyu-Vx"
   },
   "source": [
    "On colab, authenticate first:"
   ]
  },
  {
   "cell_type": "code",
   "execution_count": null,
   "metadata": {
    "id": "kZQA0KrfXCvU"
   },
   "outputs": [],
   "source": [
    "import sys\n",
    "if 'google.colab' in sys.modules:\n",
    "  from google.colab import auth\n",
    "  auth.authenticate_user()"
   ]
  },
  {
   "cell_type": "markdown",
   "metadata": {
    "id": "ijfOidzcdEWy"
   },
   "source": [
    "Then, install the libraries."
   ]
  },
  {
   "cell_type": "code",
   "execution_count": null,
   "metadata": {
    "id": "IaYsrh0Tc17L"
   },
   "outputs": [],
   "source": [
    "import os\n",
    "\n",
    "# The Google Cloud Notebook product has specific requirements\n",
    "IS_GOOGLE_CLOUD_NOTEBOOK = os.path.exists(\"/opt/deeplearning/metadata/env_version\")\n",
    "\n",
    "# Google Cloud Notebook requires dependencies to be installed with '--user'\n",
    "USER_FLAG = \"\"\n",
    "if IS_GOOGLE_CLOUD_NOTEBOOK:\n",
    "    USER_FLAG = \"--user\""
   ]
  },
  {
   "cell_type": "markdown",
   "metadata": {
    "id": "gf7MPUI1mTBF"
   },
   "source": [
    "We will be using [Vertex SDK for Python](https://cloud.google.com/vertex-ai/docs/start/client-libraries#python) to interact with Vertex AI services. The high-level aiplatform library is designed to simplify common data science workflows by using wrapper classes and opinionated defaults."
   ]
  },
  {
   "cell_type": "markdown",
   "metadata": {
    "id": "0LJoJtdpmTBF"
   },
   "source": [
    "#### Install Vertex SDK for Python"
   ]
  },
  {
   "cell_type": "code",
   "execution_count": null,
   "metadata": {
    "id": "aR7LNYMUCVKc"
   },
   "outputs": [],
   "source": [
    "!pip -q install {USER_FLAG} --upgrade kfp\n",
    "!pip -q install {USER_FLAG} --upgrade google-cloud-pipeline-components \n",
    "!pip -q install {USER_FLAG} --upgrade google-cloud-aiplatform"
   ]
  },
  {
   "cell_type": "markdown",
   "metadata": {
    "id": "hhq5zEbGg0XX"
   },
   "source": [
    "### Restart the kernel\n",
    "\n",
    "After you install the additional packages, you need to restart the notebook kernel so it can find the packages."
   ]
  },
  {
   "cell_type": "code",
   "execution_count": null,
   "metadata": {
    "id": "EzrelQZ22IZj"
   },
   "outputs": [],
   "source": [
    "# Automatically restart kernel after installs\n",
    "import os\n",
    "\n",
    "if not os.getenv(\"IS_TESTING\"):\n",
    "    # Automatically restart kernel after installs\n",
    "    import IPython\n",
    "\n",
    "    app = IPython.Application.instance()\n",
    "    app.kernel.do_shutdown(True)"
   ]
  },
  {
   "cell_type": "markdown",
   "metadata": {
    "id": "6GPgNN7eeX1l"
   },
   "source": [
    "Check the versions of the packages you installed.  The KFP SDK version should be >=1.6."
   ]
  },
  {
   "cell_type": "code",
   "execution_count": null,
   "metadata": {
    "id": "NN0mULkEeb84"
   },
   "outputs": [],
   "source": [
    "! python3 -c \"import kfp; print('kfp version: {}'.format(kfp.__version__))\"\n",
    "! python3 -c \"import google_cloud_pipeline_components; print('google_cloud_pipeline_components version: {}'.format(google_cloud_pipeline_components.__version__))\""
   ]
  },
  {
   "cell_type": "markdown",
   "metadata": {
    "id": "lWEdiXsJg0XY"
   },
   "source": [
    "## Before you begin\n",
    "\n",
    "This notebook does not require a GPU runtime."
   ]
  },
  {
   "cell_type": "markdown",
   "metadata": {
    "id": "BF1j6f9HApxa"
   },
   "source": [
    "### Set up your Google Cloud project\n",
    "\n",
    "**The following steps are required, regardless of your notebook environment.**\n",
    "\n",
    "1. [Select or create a Google Cloud project](https://console.cloud.google.com/cloud-resource-manager). When you first create an account, you get a $300 free credit towards your compute/storage costs.\n",
    "\n",
    "1. [Make sure that billing is enabled for your project](https://cloud.google.com/billing/docs/how-to/modify-project).\n",
    "\n",
    "1. [Enable the Vertex AI API and Compute Engine API](https://console.cloud.google.com/flows/enableapi?apiid=aiplatform.googleapis.com,compute_component). \n",
    "Also [enable the Cloud Build API](https://console.cloud.google.com/flows/enableapi?apiid=cloudbuild.googleapis.com).\n",
    "\n",
    "1. If you are running this notebook locally, you will need to install the [Cloud SDK](https://cloud.google.com/sdk).\n",
    "\n",
    "1. Enter your project ID in the cell below. Then run the cell to make sure the\n",
    "Cloud SDK uses the right project for all the commands in this notebook.\n",
    "\n",
    "**Note**: Jupyter runs lines prefixed with `!` as shell commands, and it interpolates Python variables prefixed with `$` into these commands."
   ]
  },
  {
   "cell_type": "markdown",
   "metadata": {
    "id": "WReHDGG5g0XY"
   },
   "source": [
    "#### Set your project ID\n",
    "\n",
    "**If you don't know your project ID**, you may be able to get your project ID using `gcloud`."
   ]
  },
  {
   "cell_type": "code",
   "execution_count": null,
   "metadata": {
    "id": "oM1iC_MfAts1"
   },
   "outputs": [],
   "source": [
    "import os\n",
    "# Get your Google Cloud project ID from gcloud\n",
    "shell_output=!gcloud config list --format 'value(core.project)' 2>/dev/null\n",
    "\n",
    "try:\n",
    "    PROJECT_ID = shell_output[0]\n",
    "except IndexError:\n",
    "    PROJECT_ID = None\n",
    "\n",
    "# Get your Google Cloud project ID from gcloud\n",
    "if not os.getenv(\"IS_TESTING\"):\n",
    "    shell_output=!gcloud config list --format 'value(core.project)' 2>/dev/null\n",
    "    PROJECT_ID = shell_output[0]\n",
    "    print(\"Project ID: \", PROJECT_ID)"
   ]
  },
  {
   "cell_type": "markdown",
   "metadata": {
    "id": "qJYoRfYng0XZ"
   },
   "source": [
    "Otherwise, set your project ID here."
   ]
  },
  {
   "cell_type": "code",
   "execution_count": null,
   "metadata": {
    "id": "riG_qUokg0XZ"
   },
   "outputs": [],
   "source": [
    "if PROJECT_ID == \"\" or PROJECT_ID is None:\n",
    "    PROJECT_ID = \"python-docs-samples-tests\"  # @param {type:\"string\"}"
   ]
  },
  {
   "cell_type": "markdown",
   "metadata": {
    "id": "06571eb4063b"
   },
   "source": [
    "#### Timestamp\n",
    "\n",
    "If you are in a live tutorial session, you might be using a shared test account or project. To avoid name collisions between users on resources created, you create a timestamp for each instance session, and append it onto the name of resources you create in this tutorial."
   ]
  },
  {
   "cell_type": "code",
   "execution_count": null,
   "metadata": {
    "id": "697568e92bd6"
   },
   "outputs": [],
   "source": [
    "from datetime import datetime\n",
    "\n",
    "def get_timestamp():\n",
    "    return datetime.now().strftime(\"%Y%m%d%H%M%S\")\n",
    "\n",
    "TIMESTAMP = get_timestamp()\n",
    "print(f\"TIMESTAMP = {TIMESTAMP}\")"
   ]
  },
  {
   "cell_type": "markdown",
   "metadata": {
    "id": "dr--iN2kAylZ"
   },
   "source": [
    "### Authenticate your Google Cloud account\n",
    "\n",
    "**If you are using AI Platform Notebooks**, your environment is already\n",
    "authenticated. Skip this step."
   ]
  },
  {
   "cell_type": "markdown",
   "metadata": {
    "id": "sBCra4QMA2wR"
   },
   "source": [
    "**If you are using Colab**, run the cell below and follow the instructions\n",
    "when prompted to authenticate your account via oAuth.\n",
    "\n",
    "**Otherwise**, follow these steps:\n",
    "\n",
    "1. In the Cloud Console, go to the [**Create service account key**\n",
    "   page](https://console.cloud.google.com/apis/credentials/serviceaccountkey).\n",
    "\n",
    "2. Click **Create service account**.\n",
    "\n",
    "3. In the **Service account name** field, enter a name, and\n",
    "   click **Create**.\n",
    "\n",
    "4. In the **Grant this service account access to project** section, click the **Role** drop-down list. Type \"AI Platform\"\n",
    "into the filter box, and select\n",
    "   **AI Platform Administrator**. Type \"Storage Object Admin\" into the filter box, and select **Storage Object Admin**.\n",
    "\n",
    "5. Click *Create*. A JSON file that contains your key downloads to your\n",
    "local environment.\n",
    "\n",
    "6. Enter the path to your service account key as the\n",
    "`GOOGLE_APPLICATION_CREDENTIALS` variable in the cell below and run the cell."
   ]
  },
  {
   "cell_type": "code",
   "execution_count": null,
   "metadata": {
    "id": "PyQmSRbKA8r-"
   },
   "outputs": [],
   "source": [
    "import os\n",
    "import sys\n",
    "\n",
    "# If you are running this notebook in Colab, run this cell and follow the\n",
    "# instructions to authenticate your GCP account. This provides access to your\n",
    "# Cloud Storage bucket and lets you submit training jobs and prediction\n",
    "# requests.\n",
    "\n",
    "# If on AI Platform, then don't execute this code\n",
    "if not os.path.exists(\"/opt/deeplearning/metadata/env_version\"):\n",
    "    if \"google.colab\" in sys.modules:\n",
    "        from google.colab import auth as google_auth\n",
    "\n",
    "        google_auth.authenticate_user()\n",
    "\n",
    "    # If you are running this notebook locally, replace the string below with the\n",
    "    # path to your service account key and run this cell to authenticate your GCP\n",
    "    # account.\n",
    "    elif not os.getenv(\"IS_TESTING\"):\n",
    "        %env GOOGLE_APPLICATION_CREDENTIALS ''"
   ]
  },
  {
   "cell_type": "markdown",
   "metadata": {
    "id": "NxhCPW6e46EF"
   },
   "source": [
    "### Create a Cloud Storage bucket as necessary\n",
    "\n",
    "You will need a Cloud Storage bucket for this example.  If you don't have one that you want to use, you can make one now.\n",
    "\n",
    "\n",
    "Set the name of your Cloud Storage bucket below. It must be unique across all\n",
    "Cloud Storage buckets.\n",
    "\n",
    "You may also change the `REGION` variable, which is used for operations\n",
    "throughout the rest of this notebook. Make sure to [choose a region where AI Platform (Unified) services are\n",
    "available](https://cloud.google.com/ai-platform-unified/docs/general/locations#available_regions). You may\n",
    "not use a Multi-Regional Storage bucket for training with AI Platform.\n",
    "\n",
    "**Change the bucket name below** before running the next cell."
   ]
  },
  {
   "cell_type": "code",
   "execution_count": null,
   "metadata": {
    "id": "kZPew6MljTcP"
   },
   "outputs": [],
   "source": [
    "BUCKET_NAME = \"gs://[your-bucket-name]\"  # @param {type:\"string\"}\n",
    "REGION = \"us-central1\"  # @param {type:\"string\"}"
   ]
  },
  {
   "cell_type": "code",
   "execution_count": null,
   "metadata": {
    "id": "cf221059d072"
   },
   "outputs": [],
   "source": [
    "if BUCKET_NAME == \"\" or BUCKET_NAME is None or BUCKET_NAME == \"gs://[your-bucket-name]\":\n",
    "    BUCKET_NAME = \"gs://\" + PROJECT_ID + \"aip-\" + TIMESTAMP"
   ]
  },
  {
   "cell_type": "markdown",
   "metadata": {
    "id": "-EcIXiGsCePi"
   },
   "source": [
    "**Only if your bucket doesn't already exist**: Run the following cell to create your Cloud Storage bucket."
   ]
  },
  {
   "cell_type": "code",
   "execution_count": null,
   "metadata": {
    "id": "NIq7R4HZCfIc"
   },
   "outputs": [],
   "source": [
    "! gsutil mb -l $REGION $BUCKET_NAME"
   ]
  },
  {
   "cell_type": "markdown",
   "metadata": {
    "id": "ucvCsknMCims"
   },
   "source": [
    "Finally, validate access to your Cloud Storage bucket by examining its contents:"
   ]
  },
  {
   "cell_type": "code",
   "execution_count": null,
   "metadata": {
    "id": "vhOb7YnwClBb"
   },
   "outputs": [],
   "source": [
    "! gsutil ls -al $BUCKET_NAME"
   ]
  },
  {
   "cell_type": "markdown",
   "metadata": {
    "id": "e3EQyqZiEMmf"
   },
   "source": [
    "### Import libraries and define constants"
   ]
  },
  {
   "cell_type": "markdown",
   "metadata": {
    "id": "lNV3Jd8BEMmj"
   },
   "source": [
    "\n",
    "\n",
    "Define some constants. See the \"Before you begin\" section of the Managed Pipelines User Guide for information on creating your API key.\n"
   ]
  },
  {
   "cell_type": "code",
   "execution_count": null,
   "metadata": {},
   "outputs": [],
   "source": [
    "os.environ[\"PROJECT_ID\"] = PROJECT_ID\n",
    "os.environ[\"BUCKET\"] = BUCKET_NAME"
   ]
  },
  {
   "cell_type": "code",
   "execution_count": null,
   "metadata": {
    "id": "rkux57WHmTBL"
   },
   "outputs": [],
   "source": [
    "APP_NAME = \"housing-price-predictor\""
   ]
  },
  {
   "cell_type": "markdown",
   "metadata": {
    "id": "wbY_UZSvEMmk"
   },
   "source": [
    "Do some imports:"
   ]
  },
  {
   "cell_type": "code",
   "execution_count": null,
   "metadata": {
    "id": "lnz2aQ_EEMmk"
   },
   "outputs": [],
   "source": [
    "import json\n",
    "from typing import NamedTuple, List\n",
    "\n",
    "from google_cloud_pipeline_components import aiplatform as aip_components\n",
    "from google_cloud_pipeline_components.v1 import custom_job, dataset, endpoint, model, batch_predict_job\n",
    "from google_cloud_pipeline_components.types import artifact_types\n",
    "from google.cloud import aiplatform\n",
    "from google.cloud.aiplatform import pipeline_jobs\n",
    "\n",
    "from kfp.v2 import compiler\n",
    "from kfp.v2 import dsl\n",
    "from kfp.v2 import components"
   ]
  },
  {
   "cell_type": "code",
   "execution_count": null,
   "metadata": {},
   "outputs": [],
   "source": [
    "! mkdir ./src"
   ]
  },
  {
   "cell_type": "markdown",
   "metadata": {},
   "source": [
    "### Introduction to Google Artifact Registry\n",
    "\n",
    "The `Google Artifact Registry` is a service for storing and managing artifacts in private repositories, including container images, Helm charts, and language packages. It is the recommended container image registry for Google Cloud.\n",
    "\n",
    "Learn more about [Quick start for Docker](https://cloud.google.com/artifact-registry/docs/docker/quickstart)"
   ]
  },
  {
   "cell_type": "markdown",
   "metadata": {},
   "source": [
    "#### Enable Artifact Registry API\n",
    "\n",
    "First, you must enable the Artifact Registry API service for your project.\n",
    "\n",
    "Learn more about [Enabling service](https://cloud.google.com/artifact-registry/docs/enable-service)."
   ]
  },
  {
   "cell_type": "code",
   "execution_count": null,
   "metadata": {},
   "outputs": [],
   "source": [
    "! gcloud services enable artifactregistry.googleapis.com"
   ]
  },
  {
   "cell_type": "markdown",
   "metadata": {},
   "source": [
    "#### Create a private Docker repository\n",
    "\n",
    "Your first step is to create your own Docker repository in Google Artifact Registry.\n",
    "\n",
    "1. Run the `gcloud artifacts repositories create` command to create a new Docker repository with your region with the description \"docker repository\".\n",
    "\n",
    "2. Run the `gcloud artifacts repositories list` command to verify that your repository was created."
   ]
  },
  {
   "cell_type": "code",
   "execution_count": null,
   "metadata": {},
   "outputs": [],
   "source": [
    "PRIVATE_REPO = \"r-on-vertex\""
   ]
  },
  {
   "cell_type": "code",
   "execution_count": null,
   "metadata": {},
   "outputs": [],
   "source": [
    "! gcloud artifacts repositories create $PRIVATE_REPO --repository-format=docker \\\n",
    "    --location=$REGION \\\n",
    "    --description=\"Docker repository\"\n",
    "\n",
    "! gcloud artifacts repositories list"
   ]
  },
  {
   "cell_type": "markdown",
   "metadata": {},
   "source": [
    "#### Configure authentication to your private repo\n",
    "\n",
    "Before you push or pull container images, configure Docker to use the `gcloud` command-line tool to authenticate requests to `Artifact Registry` for your region."
   ]
  },
  {
   "cell_type": "code",
   "execution_count": null,
   "metadata": {},
   "outputs": [],
   "source": [
    "! gcloud auth configure-docker $REGION-docker.pkg.dev --quiet"
   ]
  },
  {
   "cell_type": "markdown",
   "metadata": {},
   "source": [
    "## Create training and serving scripts"
   ]
  },
  {
   "cell_type": "markdown",
   "metadata": {},
   "source": [
    "### Create the training script\n",
    "\n",
    "Next, create the file `train.R`, which is used to train your R model. The script trains a `randomForest` model on the California Housing dataset. Vertex AI sets environment variables that you can utilize, and since this script uses a Vertex AI managed dataset, data splits are performed by Vertex AI and the script receives environment variables pointing to the training, test, and validation sets.\n",
    "\n",
    "The trained model artifacts are then stored to your Cloud Storage bucket."
   ]
  },
  {
   "cell_type": "code",
   "execution_count": null,
   "metadata": {},
   "outputs": [],
   "source": [
    "%%writefile src/train.R\n",
    "\n",
    "#!/usr/bin/env Rscript\n",
    "# filename: train.R - train a Random Forest model on Vertex AI Managed Dataset\n",
    "library(tidyverse)\n",
    "library(data.table)\n",
    "library(randomForest)\n",
    "Sys.getenv()\n",
    "\n",
    "# The GCP Project ID\n",
    "project_id <- Sys.getenv(\"CLOUD_ML_PROJECT_ID\")\n",
    "\n",
    "# The GCP Region\n",
    "location <- Sys.getenv(\"CLOUD_ML_REGION\")\n",
    "\n",
    "# The Cloud Storage URI to upload the trained model artifact to\n",
    "model_dir <- Sys.getenv(\"AIP_MODEL_DIR\")\n",
    "\n",
    "# Next, you create directories to download our training, validation, and test set into.\n",
    "dir.create(\"training\")\n",
    "dir.create(\"validation\")\n",
    "dir.create(\"test\")\n",
    "\n",
    "# You download the Vertex AI managed data sets into the container environment locally.\n",
    "system2(\"gsutil\", c(\"cp\", Sys.getenv(\"AIP_TRAINING_DATA_URI\"), \"training/\"))\n",
    "system2(\"gsutil\", c(\"cp\", Sys.getenv(\"AIP_VALIDATION_DATA_URI\"), \"validation/\"))\n",
    "system2(\"gsutil\", c(\"cp\", Sys.getenv(\"AIP_TEST_DATA_URI\"), \"test/\"))\n",
    "\n",
    "# For each data set, you may receive one or more CSV files that you will read into data frames.\n",
    "training_df <- list.files(\"training\", full.names = TRUE) %>% map_df(~fread(.))\n",
    "validation_df <- list.files(\"validation\", full.names = TRUE) %>% map_df(~fread(.))\n",
    "test_df <- list.files(\"test\", full.names = TRUE) %>% map_df(~fread(.))\n",
    "\n",
    "print(\"Starting Model Training\")\n",
    "rf <- randomForest(median_house_value ~ ., data=training_df, ntree=100)\n",
    "rf\n",
    "\n",
    "saveRDS(rf, \"rf.rds\")\n",
    "system2(\"gsutil\", c(\"cp\", \"rf.rds\", model_dir))"
   ]
  },
  {
   "cell_type": "markdown",
   "metadata": {},
   "source": [
    "### Create the serving script\n",
    "\n",
    "Next, create the file `serve.R`, which is used for serving your R model. The script downloads the model artifact from Cloud Storage, loads the model artifacts, and listens for prediction requests on port `8080`."
   ]
  },
  {
   "cell_type": "code",
   "execution_count": null,
   "metadata": {},
   "outputs": [],
   "source": [
    "%%writefile src/serve.R\n",
    "\n",
    "#!/usr/bin/env Rscript\n",
    "# filename: serve.R - serve predictions from a Random Forest model\n",
    "Sys.getenv()\n",
    "library(plumber)\n",
    "\n",
    "system2(\"gsutil\", c(\"cp\", \"-r\", Sys.getenv(\"AIP_STORAGE_URI\"), \".\"))\n",
    "system(\"du -a .\")\n",
    "\n",
    "rf <- readRDS(\"artifacts/rf.rds\")\n",
    "library(randomForest)\n",
    "\n",
    "predict_route <- function(req, res) {\n",
    "    print(\"Handling prediction request\")\n",
    "    df <- as.data.frame(req$body$instances)\n",
    "    preds <- predict(rf, df)\n",
    "    return(list(predictions=preds))\n",
    "}\n",
    "\n",
    "print(\"Staring Serving\")\n",
    "\n",
    "pr() %>%\n",
    "    pr_get(Sys.getenv(\"AIP_HEALTH_ROUTE\"), function() \"OK\") %>%\n",
    "    pr_post(Sys.getenv(\"AIP_PREDICT_ROUTE\"), predict_route) %>%\n",
    "    pr_run(host = \"0.0.0.0\", port=as.integer(Sys.getenv(\"AIP_HTTP_PORT\", 8080)))"
   ]
  },
  {
   "cell_type": "markdown",
   "metadata": {},
   "source": [
    "## Build and push container image"
   ]
  },
  {
   "cell_type": "markdown",
   "metadata": {},
   "source": [
    "### Create Dockerfile\n",
    "\n",
    "The docker file for your custom container is built on top of the Deep Learning container -- the same container that is also used for Vertex AI Workbench. In addition, you add two R scripts for model training and serving, respectively."
   ]
  },
  {
   "cell_type": "code",
   "execution_count": null,
   "metadata": {},
   "outputs": [],
   "source": [
    "IMAGE_NAME = \"vertex-r\"  # @param {type:\"string\"}\n",
    "IMAGE_TAG = \"latest\"  # @param {type:\"string\"}\n",
    "IMAGE_URI = f\"{REGION}-docker.pkg.dev/{PROJECT_ID}/{PRIVATE_REPO}/{IMAGE_NAME}:{IMAGE_TAG}\"\n",
    "\n",
    "os.environ[\"IMAGE_URI\"] = IMAGE_URI\n",
    "\n",
    "IMAGE_URI"
   ]
  },
  {
   "cell_type": "code",
   "execution_count": null,
   "metadata": {},
   "outputs": [],
   "source": [
    "%%writefile ./src/Dockerfile\n",
    "\n",
    "# filename: Dockerfile - container specifications for using R in Vertex AI\n",
    "FROM gcr.io/deeplearning-platform-release/r-cpu.4-1:latest\n",
    "\n",
    "WORKDIR /root\n",
    "\n",
    "COPY train.R /root/train.R\n",
    "COPY serve.R /root/serve.R\n",
    "\n",
    "# Install Fortran\n",
    "RUN apt-get update\n",
    "RUN apt-get install gfortran -yy\n",
    "\n",
    "# Install R packages\n",
    "RUN R -e 'install.packages(c(\"plumber\"))'\n",
    "RUN R -e 'install.packages(c(\"randomForest\"))'\n",
    "\n",
    "EXPOSE 8080"
   ]
  },
  {
   "cell_type": "markdown",
   "metadata": {},
   "source": [
    "### Build the Docker container\n",
    "\n",
    "Next, you build the Docker container image on Cloud Build -- the serverless CI/CD platform.\n",
    "\n",
    "*Note:* Building the Docker container image may take 10 to 15 minutes."
   ]
  },
  {
   "cell_type": "code",
   "execution_count": null,
   "metadata": {},
   "outputs": [],
   "source": [
    "! gcloud builds submit --region=$REGION --tag=$IMAGE_URI --timeout=1h ./src"
   ]
  },
  {
   "cell_type": "markdown",
   "metadata": {
    "id": "ZzmFXOmeXLiT"
   },
   "source": [
    "## Define the pipeline components\n",
    "\n"
   ]
  },
  {
   "cell_type": "code",
   "execution_count": null,
   "metadata": {},
   "outputs": [],
   "source": [
    "! mkdir -p ./src/pipelines"
   ]
  },
  {
   "cell_type": "markdown",
   "metadata": {
    "id": "kbD_iAUomTBP"
   },
   "source": [
    "### Custom component to test model deployment making online prediction requests"
   ]
  },
  {
   "cell_type": "code",
   "execution_count": null,
   "metadata": {
    "id": "pHfR-_-1mTBP"
   },
   "outputs": [],
   "source": [
    "@dsl.component(\n",
    "    #base_image=\"gcr.io/google.com/cloudsdktool/cloud-sdk:latest\",\n",
    "    base_image=\"python:3.9\",\n",
    "    packages_to_install=[\"google-cloud-build\", \"google-cloud-aiplatform\"],\n",
    "    output_component_file=\"./src/pipelines/make_prediction_request.yaml\")\n",
    "def make_prediction_request( \n",
    "    endpoint: str,\n",
    "    payload: List\n",
    "    ):\n",
    "    import logging\n",
    "    import subprocess\n",
    "    import json\n",
    "    import ast\n",
    "    import google.auth\n",
    "    import google.auth.transport.requests\n",
    "    creds, project = google.auth.default()\n",
    "\n",
    "    # creds.valid is False, and creds.token is None\n",
    "    # Need to refresh credentials to populate those\n",
    "\n",
    "    auth_req = google.auth.transport.requests.Request()\n",
    "    creds.refresh(auth_req)\n",
    "\n",
    "    logging.info(f\"Endpoint: {endpoint}\")\n",
    "    endpoint = ast.literal_eval(endpoint)\n",
    "    endpoint_uri = endpoint[\"resources\"][0][\"resourceUri\"]\n",
    "    endpoint_uri = \"/\".join(endpoint_uri.split(\"/\")[:-2])\n",
    "    endpoint_uri = f\"{endpoint_uri}:predict\"\n",
    "    logging.info(f\"Endpoint: {endpoint_uri}\")\n",
    "\n",
    "    curl_cmd = f'''curl -s \\\n",
    "    -X POST \\\n",
    "    -H \"Authorization: Bearer {creds.token}\" \\\n",
    "    -H \"Content-Type: application/json\" \\\n",
    "    {endpoint_uri} \\\n",
    "    -d '{json.dumps(payload)}'\n",
    "    '''\n",
    "\n",
    "    status, output = subprocess.getstatusoutput(curl_cmd)\n",
    "    logging.info(f\"status: {status}\")\n",
    "    logging.info(f\"output: {output}\")\n",
    "    predictions = json.loads(output)\n",
    "    logging.info(f\"Prediction response: {predictions}\")"
   ]
  },
  {
   "cell_type": "markdown",
   "metadata": {},
   "source": [
    "## Define Configuration"
   ]
  },
  {
   "cell_type": "code",
   "execution_count": null,
   "metadata": {},
   "outputs": [],
   "source": [
    "%%writefile ./src/config.py\n",
    "\n",
    "import os\n",
    "from datetime import datetime\n",
    "\n",
    "PROJECT_ID = os.getenv(\"PROJECT_ID\", \"\")\n",
    "BUCKET = os.getenv(\"BUCKET\", \"\")\n",
    "REGION = os.getenv(\"REGION\", \"us-central1\")\n",
    "\n",
    "R_CUSTOM_IMAGE_URI = os.getenv(\"IMAGE_URI\")\n",
    "\n",
    "DATASET_NAME = \"ca-housing-data\"\n",
    "\n",
    "APP_NAME = os.getenv(\"APP_NAME\", \"housing-price-predictor\")\n",
    "MODEL_NAME = APP_NAME\n",
    "MODEL_DISPLAY_NAME = f\"{MODEL_NAME}\"\n",
    "\n",
    "PIPELINE_NAME = f\"r-{APP_NAME}\"\n",
    "PIPELINE_ROOT = f\"{BUCKET}/pipeline_root/{MODEL_NAME}\"\n",
    "GCS_STAGING = f\"{BUCKET}/pipeline_root/{MODEL_NAME}\"\n",
    "\n",
    "TRAIN_MACHINE_TYPE = \"n1-standard-4\"\n",
    "TRAIN_REPLICA_COUNT = \"1\"\n",
    "\n",
    "SERVING_MACHINE_TYPE = \"n1-standard-4\"\n",
    "SERVING_MIN_REPLICA_COUNT = 1\n",
    "SERVING_MAX_REPLICA_COUNT=1\n",
    "SERVING_TRAFFIC_SPLIT='{\"0\": 100}'"
   ]
  },
  {
   "cell_type": "code",
   "execution_count": null,
   "metadata": {},
   "outputs": [],
   "source": [
    "from src import config"
   ]
  },
  {
   "cell_type": "code",
   "execution_count": null,
   "metadata": {},
   "outputs": [],
   "source": [
    "# create working dir to pass to job spec\n",
    "WORKING_DIR = f\"{config.PIPELINE_ROOT}/{TIMESTAMP}\"\n",
    "GCS_TEST_BATCH_URI = f\"{config.PIPELINE_ROOT}/data/test/batch_input.jsonl\""
   ]
  },
  {
   "cell_type": "markdown",
   "metadata": {},
   "source": [
    "## Sample file for testing predictions"
   ]
  },
  {
   "cell_type": "code",
   "execution_count": null,
   "metadata": {},
   "outputs": [],
   "source": [
    "%%writefile batch_input.jsonl\n",
    "{\"longitude\":-122.23,\"latitude\":37.88,\"housing_median_age\":41,\"total_rooms\":880,\"total_bedrooms\":129,\"population\":322,\"households\":126,\"median_income\":8.3252}\n",
    "{\"longitude\":-122.22,\"latitude\":37.86,\"housing_median_age\":21,\"total_rooms\":7099,\"total_bedrooms\":1106,\"population\":2401,\"households\":1138,\"median_income\":8.3014}\n",
    "{\"longitude\":-122.24,\"latitude\":37.85,\"housing_median_age\":52,\"total_rooms\":1467,\"total_bedrooms\":190,\"population\":496,\"households\":177,\"median_income\":7.2574}\n",
    "{\"longitude\":-122.25,\"latitude\":37.85,\"housing_median_age\":52,\"total_rooms\":1274,\"total_bedrooms\":235,\"population\":558,\"households\":219,\"median_income\":5.6431}\n",
    "{\"longitude\":-122.25,\"latitude\":37.85,\"housing_median_age\":52,\"total_rooms\":1627,\"total_bedrooms\":280,\"population\":565,\"households\":259,\"median_income\":3.8462}"
   ]
  },
  {
   "cell_type": "code",
   "execution_count": null,
   "metadata": {},
   "outputs": [],
   "source": [
    "! cat batch_input.jsonl | gsutil cp - $GCS_TEST_BATCH_URI\n",
    "! gsutil cat $GCS_TEST_BATCH_URI"
   ]
  },
  {
   "cell_type": "markdown",
   "metadata": {
    "id": "joJRXsSNmTBP"
   },
   "source": [
    "## Define Pipeline"
   ]
  },
  {
   "cell_type": "code",
   "execution_count": null,
   "metadata": {
    "id": "_u7ZQgjgmTBP"
   },
   "outputs": [],
   "source": [
    "@dsl.pipeline(\n",
    "    name=config.PIPELINE_NAME,\n",
    "    pipeline_root=config.PIPELINE_ROOT\n",
    ")\n",
    "def r_pipeline(\n",
    "    dataset_uri: str\n",
    "):\n",
    "    from src import config\n",
    "        \n",
    "    # create dataset\n",
    "    create_dataset_task = dataset.TabularDatasetCreateOp(\n",
    "        display_name=config.DATASET_NAME,\n",
    "        gcs_source=dataset_uri,\n",
    "        project=config.PROJECT_ID,\n",
    "        location=config.REGION,\n",
    "    ).set_display_name(\"Create Managed Dataset\")\n",
    "\n",
    "    # train the model on Vertex AI by submitting a CustomJob \n",
    "    run_train_task = (\n",
    "        aip_components.CustomContainerTrainingJobRunOp(\n",
    "            project=config.PROJECT_ID,\n",
    "            location=config.REGION,\n",
    "            display_name=\"Run model Training\",\n",
    "            dataset=create_dataset_task.outputs[\"dataset\"],\n",
    "            replica_count=config.TRAIN_REPLICA_COUNT,\n",
    "            machine_type=config.TRAIN_MACHINE_TYPE,\n",
    "            container_uri=config.R_CUSTOM_IMAGE_URI, \n",
    "            command=[\"Rscript\", \"train.R\"],\n",
    "            model_display_name=config.MODEL_DISPLAY_NAME,\n",
    "            model_serving_container_image_uri=config.R_CUSTOM_IMAGE_URI,\n",
    "            model_serving_container_command=[\"Rscript\", \"serve.R\"],\n",
    "            model_serving_container_predict_route='/predict',\n",
    "            model_serving_container_health_route='/health',\n",
    "            staging_bucket=config.BUCKET,\n",
    "            base_output_dir=WORKING_DIR\n",
    "        )\n",
    "        .set_display_name(\"Run custom training job\")\n",
    "        .set_caching_options(False)\n",
    "    )\n",
    "\n",
    "    # create endpoint to deploy one or more models\n",
    "    # An endpoint provides a service URL where the prediction requests are sent\n",
    "    endpoint_create_task = (\n",
    "        endpoint.EndpointCreateOp(\n",
    "            project=config.PROJECT_ID,\n",
    "            display_name=config.MODEL_DISPLAY_NAME)\n",
    "        .set_display_name(\"Create endpoint\")\n",
    "        .after(run_train_task)\n",
    "        .set_caching_options(False)\n",
    "    )\n",
    "\n",
    "    # deploy models to endpoint to associates physical resources with the model \n",
    "    # so it can serve online predictions \n",
    "    model_deploy_task = (\n",
    "        endpoint.ModelDeployOp(\n",
    "            endpoint=endpoint_create_task.outputs[\"endpoint\"],\n",
    "            model=run_train_task.outputs[\"model\"],\n",
    "            deployed_model_display_name=config.MODEL_DISPLAY_NAME,\n",
    "            dedicated_resources_machine_type=config.SERVING_MACHINE_TYPE,\n",
    "            dedicated_resources_min_replica_count=config.SERVING_MIN_REPLICA_COUNT,\n",
    "            dedicated_resources_max_replica_count=config.SERVING_MAX_REPLICA_COUNT,\n",
    "            traffic_split=config.SERVING_TRAFFIC_SPLIT)\n",
    "        .set_caching_options(False)\n",
    "        .set_display_name(\"Deploy model to endpoint\")\n",
    "    )\n",
    "\n",
    "    # test model deployment by making online prediction requests\n",
    "    payload = {\"instances\":[{\n",
    "        \"longitude\":-122.23,\n",
    "        \"latitude\":37.88,\n",
    "        \"housing_median_age\":41,\n",
    "        \"total_rooms\":880,\n",
    "        \"total_bedrooms\":129,\n",
    "        \"population\":322,\n",
    "        \"households\":126,\n",
    "        \"median_income\":8.3252}]}\n",
    "\n",
    "    predict_test_instances_task = (\n",
    "        make_prediction_request(\n",
    "            model_deploy_task.outputs[\"gcp_resources\"],\n",
    "            payload)\n",
    "        .set_caching_options(False)\n",
    "        .set_display_name(\"Test model deployment\")\n",
    "    )\n",
    "    \n",
    "    # run batch predictions \n",
    "    model_batch_prediction_task = (\n",
    "        batch_predict_job.ModelBatchPredictOp(\n",
    "            project=config.PROJECT_ID,\n",
    "            location=config.REGION,\n",
    "            job_display_name=f\"batch-{config.MODEL_DISPLAY_NAME}\",\n",
    "            model=run_train_task.outputs[\"model\"],\n",
    "            gcs_source_uris=[GCS_TEST_BATCH_URI],\n",
    "            gcs_destination_output_uri_prefix=f\"{WORKING_DIR}/results/\",\n",
    "            predictions_format='jsonl',\n",
    "            machine_type=config.SERVING_MACHINE_TYPE,\n",
    "            starting_replica_count=config.SERVING_MIN_REPLICA_COUNT,\n",
    "            max_replica_count=config.SERVING_MAX_REPLICA_COUNT\n",
    "        )\n",
    "        .set_caching_options(False)\n",
    "        .set_display_name(\"Run batch predictions\")\n",
    "        .after(predict_test_instances_task)\n",
    "    )\n"
   ]
  },
  {
   "attachments": {
    "c0600350-01bf-48d8-9248-9631408fddac.png": {
     "image/png": "[encoded data removed]"
    }
   },
   "cell_type": "markdown",
   "metadata": {},
   "source": [
    "![image.png](attachment:c0600350-01bf-48d8-9248-9631408fddac.png)"
   ]
  },
  {
   "cell_type": "markdown",
   "metadata": {},
   "source": [
    "## Compile and submit pipeline"
   ]
  },
  {
   "cell_type": "code",
   "execution_count": null,
   "metadata": {
    "id": "xREwNd4b2Oif"
   },
   "outputs": [],
   "source": [
    "PIPELINE_JSON_SPEC_PATH = './src/pipelines/r-housing-price-predictor-pipeline-spec.json'\n",
    "compiler.Compiler().compile(\n",
    "    pipeline_func=r_pipeline,\n",
    "    package_path=PIPELINE_JSON_SPEC_PATH)"
   ]
  },
  {
   "cell_type": "code",
   "execution_count": null,
   "metadata": {
    "id": "r9jd9MW_2gyx"
   },
   "outputs": [],
   "source": [
    "aiplatform.init(project=PROJECT_ID, location=REGION, staging_bucket=BUCKET_NAME)"
   ]
  },
  {
   "cell_type": "code",
   "execution_count": null,
   "metadata": {
    "id": "VQIeI_bqmTBQ"
   },
   "outputs": [],
   "source": [
    "PIPELINE_JOB_ID = f\"pipeline-{APP_NAME}-{get_timestamp()}\"\n",
    "pipeline_params = {\n",
    "    \"dataset_uri\": \"gs://cloud-samples-data/ai-platform-unified/datasets/tabular/california-housing-tabular-regression.csv\" \n",
    "}"
   ]
  },
  {
   "cell_type": "code",
   "execution_count": null,
   "metadata": {
    "id": "YnjKmjxomTBQ"
   },
   "outputs": [],
   "source": [
    "pipeline_job = pipeline_jobs.PipelineJob(\n",
    "    display_name=config.PIPELINE_NAME,\n",
    "    pipeline_root=config.PIPELINE_ROOT,\n",
    "    job_id=PIPELINE_JOB_ID,\n",
    "    template_path=PIPELINE_JSON_SPEC_PATH,\n",
    "    parameter_values=pipeline_params,\n",
    "    enable_caching=True\n",
    ")"
   ]
  },
  {
   "cell_type": "code",
   "execution_count": null,
   "metadata": {
    "id": "U0sA2fXemTBQ"
   },
   "outputs": [],
   "source": [
    "response = pipeline_job.run(sync=False)\n",
    "response"
   ]
  },
  {
   "cell_type": "code",
   "execution_count": null,
   "metadata": {
    "id": "ler3Wx4RmTBQ"
   },
   "outputs": [],
   "source": [
    "df = aiplatform.get_pipeline_df(pipeline=config.PIPELINE_NAME.replace(\"_\", \"-\"))\n",
    "df"
   ]
  }
 ],
 "metadata": {
  "colab": {
   "collapsed_sections": [],
   "provenance": []
  },
  "environment": {
   "kernel": "python3",
   "name": "tf2-gpu.2-7.m87",
   "type": "gcloud",
   "uri": "gcr.io/deeplearning-platform-release/tf2-gpu.2-7:m87"
  },
  "interpreter": {
   "hash": "d4d1e4263499bec80672ea0156c357c1ee493ec2b1c70f0acce89fc37c4a6abe"
  },
  "kernelspec": {
   "display_name": "Python 3 (ipykernel)",
   "language": "python",
   "name": "python3"
  },
  "language_info": {
   "codemirror_mode": {
    "name": "ipython",
    "version": 3
   },
   "file_extension": ".py",
   "mimetype": "text/x-python",
   "name": "python",
   "nbconvert_exporter": "python",
   "pygments_lexer": "ipython3",
   "version": "3.7.12"
  },
  "toc-autonumbering": false
 },
 "nbformat": 4,
 "nbformat_minor": 4
}
